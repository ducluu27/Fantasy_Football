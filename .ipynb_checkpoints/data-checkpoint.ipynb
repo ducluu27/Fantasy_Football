{
 "cells": [
  {
   "cell_type": "code",
   "execution_count": 2,
   "metadata": {},
   "outputs": [],
   "source": [
    "import json\n",
    "import csv"
   ]
  },
  {
   "cell_type": "code",
   "execution_count": 14,
   "metadata": {},
   "outputs": [],
   "source": [
    "with open ('Resources/player_stats.csv', 'r') as f:\n",
    "    reader=csv.reader(f)\n",
    "    next(reader)\n",
    "    data = {'Players': []}\n",
    "    for row in reader:\n",
    "        data['Players'].append({'Player':row[0],'Tm':row[1], 'Year':row[2], 'FantPos':row[3], 'Age':row[4], 'G':row[5], 'GS':row[6], 'Cmp':row[7], 'Att':row[8],\n",
    "       'Yds':row[9], 'TD':row[10], 'Int':row[11], 'Att.1':row[12], 'Yds.1':row[13], 'Y/A':row[14], 'TD.1':row[15], 'Tgt':row[16], 'Rec':row[17],\n",
    "       'Yds.2':row[18], 'Y/R':row[19], 'TD.2':row[20], 'Fmb':row[21], 'FL':row[22], 'TD.3':row[23], '2PM':row[24], '2PP':row[25], 'FantPt':row[26],\n",
    "       'PPR':row[27], 'DKPt':row[28], 'FDPt':row[29], 'VBD':row[30], 'PosRank':row[31], 'OvRank':row[32]})"
   ]
  },
  {
   "cell_type": "code",
   "execution_count": 19,
   "metadata": {},
   "outputs": [],
   "source": [
    "with open ('data.json','w') as f:\n",
    "    json.dump(data,f,indent=4)"
   ]
  },
  {
   "cell_type": "code",
   "execution_count": null,
   "metadata": {},
   "outputs": [],
   "source": []
  }
 ],
 "metadata": {
  "kernelspec": {
   "display_name": "PythonData",
   "language": "python",
   "name": "pythondata"
  },
  "language_info": {
   "codemirror_mode": {
    "name": "ipython",
    "version": 3
   },
   "file_extension": ".py",
   "mimetype": "text/x-python",
   "name": "python",
   "nbconvert_exporter": "python",
   "pygments_lexer": "ipython3",
   "version": "3.7.7"
  }
 },
 "nbformat": 4,
 "nbformat_minor": 4
}
